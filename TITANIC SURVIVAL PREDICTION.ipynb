{
 "cells": [
  {
   "cell_type": "code",
   "execution_count": 2,
   "id": "8842dd85",
   "metadata": {},
   "outputs": [
    {
     "name": "stdout",
     "output_type": "stream",
     "text": [
      "Accuracy: 0.799\n",
      "\n",
      "Classification Report:\n",
      "               precision    recall  f1-score   support\n",
      "\n",
      "           0       0.79      0.89      0.84       105\n",
      "           1       0.81      0.68      0.74        74\n",
      "\n",
      "    accuracy                           0.80       179\n",
      "   macro avg       0.80      0.78      0.79       179\n",
      "weighted avg       0.80      0.80      0.80       179\n",
      "\n",
      "\n",
      "Feature Importance:\n",
      "       Feature  Importance\n",
      "1         Sex       0.386\n",
      "7      AgeBin       0.188\n",
      "0      Pclass       0.130\n",
      "6  FamilySize       0.078\n",
      "8     FareBin       0.070\n",
      "2       SibSp       0.053\n",
      "5  Embarked_S       0.042\n",
      "3       Parch       0.037\n",
      "4  Embarked_Q       0.016\n"
     ]
    }
   ],
   "source": [
    "#Task 1\n",
    "\n",
    "import pandas as pd\n",
    "import numpy as np\n",
    "from sklearn.ensemble import RandomForestClassifier\n",
    "from sklearn.model_selection import train_test_split\n",
    "from sklearn.metrics import accuracy_score, classification_report\n",
    "import warnings\n",
    "warnings.filterwarnings('ignore')\n",
    "\n",
    "df = pd.read_csv('Titanic-Dataset.csv')\n",
    "\n",
    "df.drop(['PassengerId', 'Name', 'Ticket', 'Cabin'], axis=1, inplace=True)\n",
    "\n",
    "df['Age'].fillna(df['Age'].median(), inplace=True)\n",
    "df['Embarked'].fillna(df['Embarked'].mode()[0], inplace=True)\n",
    "\n",
    "df['Sex'] = df['Sex'].map({'male': 0, 'female': 1})\n",
    "df = pd.get_dummies(df, columns=['Embarked'], drop_first=True)\n",
    "\n",
    "df['FamilySize'] = df['SibSp'] + df['Parch'] + 1\n",
    "\n",
    "age_bins = [0, 8.38, 16.34, 24.29, 32.25, 40.21, 48.17, 56.13, 64.08, 72.04, 80]\n",
    "df['AgeBin'] = pd.cut(df['Age'], bins=age_bins, labels=False, include_lowest=True)\n",
    "fare_bins = [0, 51.23, 102.47, 153.70, 204.93, 256.16, 307.40, 512.33]\n",
    "df['FareBin'] = pd.cut(df['Fare'], bins=fare_bins, labels=False, include_lowest=True)\n",
    "\n",
    "df.drop(['Age', 'Fare'], axis=1, inplace=True)\n",
    "\n",
    "df['AgeBin'].fillna(df['AgeBin'].mode()[0], inplace=True)\n",
    "df['FareBin'].fillna(df['FareBin'].mode()[0], inplace=True)\n",
    "\n",
    "X = df.drop('Survived', axis=1)\n",
    "y = df['Survived']\n",
    "\n",
    "X_train, X_test, y_train, y_test = train_test_split(X, y, test_size=0.2, random_state=42)\n",
    "\n",
    "model = RandomForestClassifier(n_estimators=100, random_state=42)\n",
    "model.fit(X_train, y_train)\n",
    "\n",
    "y_pred = model.predict(X_test)\n",
    "\n",
    "print(\"Accuracy:\", round(accuracy_score(y_test, y_pred), 3))\n",
    "print(\"\\nClassification Report:\\n\", classification_report(y_test, y_pred))\n",
    "\n",
    "importances = pd.DataFrame({\n",
    "    'Feature': X.columns,\n",
    "    'Importance': model.feature_importances_\n",
    "}).sort_values('Importance', ascending=False)\n",
    "print(\"\\nFeature Importance:\\n\", importances.round(3))"
   ]
  },
  {
   "cell_type": "code",
   "execution_count": null,
   "id": "df74bc5c",
   "metadata": {},
   "outputs": [],
   "source": []
  }
 ],
 "metadata": {
  "kernelspec": {
   "display_name": "Python 3 (ipykernel)",
   "language": "python",
   "name": "python3"
  },
  "language_info": {
   "codemirror_mode": {
    "name": "ipython",
    "version": 3
   },
   "file_extension": ".py",
   "mimetype": "text/x-python",
   "name": "python",
   "nbconvert_exporter": "python",
   "pygments_lexer": "ipython3",
   "version": "3.11.5"
  }
 },
 "nbformat": 4,
 "nbformat_minor": 5
}
